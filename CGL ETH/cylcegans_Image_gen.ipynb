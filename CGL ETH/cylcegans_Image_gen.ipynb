{
 "cells": [
  {
   "cell_type": "code",
   "execution_count": 1,
   "id": "b3ec7371-b909-4d27-a22b-24e435165b8f",
   "metadata": {},
   "outputs": [
    {
     "name": "stdout",
     "output_type": "stream",
     "text": [
      "Requirement already satisfied: vtk in /opt/miniconda3/lib/python3.12/site-packages (9.3.1)\n",
      "Requirement already satisfied: matplotlib>=2.0.0 in /opt/miniconda3/lib/python3.12/site-packages (from vtk) (3.8.4)\n",
      "Requirement already satisfied: contourpy>=1.0.1 in /opt/miniconda3/lib/python3.12/site-packages (from matplotlib>=2.0.0->vtk) (1.2.0)\n",
      "Requirement already satisfied: cycler>=0.10 in /opt/miniconda3/lib/python3.12/site-packages (from matplotlib>=2.0.0->vtk) (0.11.0)\n",
      "Requirement already satisfied: fonttools>=4.22.0 in /opt/miniconda3/lib/python3.12/site-packages (from matplotlib>=2.0.0->vtk) (4.51.0)\n",
      "Requirement already satisfied: kiwisolver>=1.3.1 in /opt/miniconda3/lib/python3.12/site-packages (from matplotlib>=2.0.0->vtk) (1.4.4)\n",
      "Requirement already satisfied: numpy>=1.21 in /opt/miniconda3/lib/python3.12/site-packages (from matplotlib>=2.0.0->vtk) (1.26.4)\n",
      "Requirement already satisfied: packaging>=20.0 in /opt/miniconda3/lib/python3.12/site-packages (from matplotlib>=2.0.0->vtk) (23.2)\n",
      "Requirement already satisfied: pillow>=8 in /opt/miniconda3/lib/python3.12/site-packages (from matplotlib>=2.0.0->vtk) (10.3.0)\n",
      "Requirement already satisfied: pyparsing>=2.3.1 in /opt/miniconda3/lib/python3.12/site-packages (from matplotlib>=2.0.0->vtk) (3.0.9)\n",
      "Requirement already satisfied: python-dateutil>=2.7 in /opt/miniconda3/lib/python3.12/site-packages (from matplotlib>=2.0.0->vtk) (2.9.0.post0)\n",
      "Requirement already satisfied: six>=1.5 in /opt/miniconda3/lib/python3.12/site-packages (from python-dateutil>=2.7->matplotlib>=2.0.0->vtk) (1.16.0)\n"
     ]
    }
   ],
   "source": [
    "!pip install vtk"
   ]
  },
  {
   "cell_type": "code",
   "execution_count": 2,
   "id": "9566044c-a88b-469e-9b8b-3540fa035a94",
   "metadata": {},
   "outputs": [],
   "source": [
    "import matplotlib.pyplot as plt"
   ]
  },
  {
   "cell_type": "code",
   "execution_count": 3,
   "id": "fc4bbaf9-36b2-4320-b594-9516b7b20dae",
   "metadata": {},
   "outputs": [
    {
     "name": "stdout",
     "output_type": "stream",
     "text": [
      "Requirement already satisfied: pyvista[jupyter] in /opt/miniconda3/lib/python3.12/site-packages (0.44.1)\n",
      "Requirement already satisfied: matplotlib>=3.0.1 in /opt/miniconda3/lib/python3.12/site-packages (from pyvista[jupyter]) (3.8.4)\n",
      "Requirement already satisfied: numpy>=1.21.0 in /opt/miniconda3/lib/python3.12/site-packages (from pyvista[jupyter]) (1.26.4)\n",
      "Requirement already satisfied: pillow in /opt/miniconda3/lib/python3.12/site-packages (from pyvista[jupyter]) (10.3.0)\n",
      "Requirement already satisfied: pooch in /opt/miniconda3/lib/python3.12/site-packages (from pyvista[jupyter]) (1.8.2)\n",
      "Requirement already satisfied: scooby>=0.5.1 in /opt/miniconda3/lib/python3.12/site-packages (from pyvista[jupyter]) (0.10.0)\n",
      "Requirement already satisfied: vtk in /opt/miniconda3/lib/python3.12/site-packages (from pyvista[jupyter]) (9.3.1)\n",
      "Requirement already satisfied: typing-extensions in /opt/miniconda3/lib/python3.12/site-packages (from pyvista[jupyter]) (4.11.0)\n",
      "Requirement already satisfied: ipywidgets in /opt/miniconda3/lib/python3.12/site-packages (from pyvista[jupyter]) (8.1.2)\n",
      "Requirement already satisfied: jupyter-server-proxy in /opt/miniconda3/lib/python3.12/site-packages (from pyvista[jupyter]) (4.3.0)\n",
      "Requirement already satisfied: nest-asyncio in /opt/miniconda3/lib/python3.12/site-packages (from pyvista[jupyter]) (1.6.0)\n",
      "Requirement already satisfied: trame>=2.5.2 in /opt/miniconda3/lib/python3.12/site-packages (from pyvista[jupyter]) (3.6.3)\n",
      "Requirement already satisfied: trame-client>=2.12.7 in /opt/miniconda3/lib/python3.12/site-packages (from pyvista[jupyter]) (3.2.1)\n",
      "Requirement already satisfied: trame-server>=2.11.7 in /opt/miniconda3/lib/python3.12/site-packages (from pyvista[jupyter]) (3.0.3)\n",
      "Requirement already satisfied: trame-vtk>=2.5.8 in /opt/miniconda3/lib/python3.12/site-packages (from pyvista[jupyter]) (2.8.9)\n",
      "Requirement already satisfied: trame-vuetify>=2.3.1 in /opt/miniconda3/lib/python3.12/site-packages (from pyvista[jupyter]) (2.6.2)\n",
      "Requirement already satisfied: contourpy>=1.0.1 in /opt/miniconda3/lib/python3.12/site-packages (from matplotlib>=3.0.1->pyvista[jupyter]) (1.2.0)\n",
      "Requirement already satisfied: cycler>=0.10 in /opt/miniconda3/lib/python3.12/site-packages (from matplotlib>=3.0.1->pyvista[jupyter]) (0.11.0)\n",
      "Requirement already satisfied: fonttools>=4.22.0 in /opt/miniconda3/lib/python3.12/site-packages (from matplotlib>=3.0.1->pyvista[jupyter]) (4.51.0)\n",
      "Requirement already satisfied: kiwisolver>=1.3.1 in /opt/miniconda3/lib/python3.12/site-packages (from matplotlib>=3.0.1->pyvista[jupyter]) (1.4.4)\n",
      "Requirement already satisfied: packaging>=20.0 in /opt/miniconda3/lib/python3.12/site-packages (from matplotlib>=3.0.1->pyvista[jupyter]) (23.2)\n",
      "Requirement already satisfied: pyparsing>=2.3.1 in /opt/miniconda3/lib/python3.12/site-packages (from matplotlib>=3.0.1->pyvista[jupyter]) (3.0.9)\n",
      "Requirement already satisfied: python-dateutil>=2.7 in /opt/miniconda3/lib/python3.12/site-packages (from matplotlib>=3.0.1->pyvista[jupyter]) (2.9.0.post0)\n",
      "Requirement already satisfied: wslink<3,>=2 in /opt/miniconda3/lib/python3.12/site-packages (from trame-server>=2.11.7->pyvista[jupyter]) (2.1.1)\n",
      "Requirement already satisfied: more-itertools in /opt/miniconda3/lib/python3.12/site-packages (from trame-server>=2.11.7->pyvista[jupyter]) (10.3.0)\n",
      "Requirement already satisfied: comm>=0.1.3 in /opt/miniconda3/lib/python3.12/site-packages (from ipywidgets->pyvista[jupyter]) (0.2.1)\n",
      "Requirement already satisfied: ipython>=6.1.0 in /opt/miniconda3/lib/python3.12/site-packages (from ipywidgets->pyvista[jupyter]) (8.20.0)\n",
      "Requirement already satisfied: traitlets>=4.3.1 in /opt/miniconda3/lib/python3.12/site-packages (from ipywidgets->pyvista[jupyter]) (5.7.1)\n",
      "Requirement already satisfied: widgetsnbextension~=4.0.10 in /opt/miniconda3/lib/python3.12/site-packages (from ipywidgets->pyvista[jupyter]) (4.0.10)\n",
      "Requirement already satisfied: jupyterlab-widgets~=3.0.10 in /opt/miniconda3/lib/python3.12/site-packages (from ipywidgets->pyvista[jupyter]) (3.0.10)\n",
      "Requirement already satisfied: aiohttp in /opt/miniconda3/lib/python3.12/site-packages (from jupyter-server-proxy->pyvista[jupyter]) (3.9.5)\n",
      "Requirement already satisfied: jupyter-server>=1.24.0 in /opt/miniconda3/lib/python3.12/site-packages (from jupyter-server-proxy->pyvista[jupyter]) (2.10.0)\n",
      "Requirement already satisfied: simpervisor>=1.0.0 in /opt/miniconda3/lib/python3.12/site-packages (from jupyter-server-proxy->pyvista[jupyter]) (1.0.0)\n",
      "Requirement already satisfied: tornado>=6.1.0 in /opt/miniconda3/lib/python3.12/site-packages (from jupyter-server-proxy->pyvista[jupyter]) (6.3.3)\n",
      "Requirement already satisfied: platformdirs>=2.5.0 in /opt/miniconda3/lib/python3.12/site-packages (from pooch->pyvista[jupyter]) (3.10.0)\n",
      "Requirement already satisfied: requests>=2.19.0 in /opt/miniconda3/lib/python3.12/site-packages (from pooch->pyvista[jupyter]) (2.31.0)\n",
      "Requirement already satisfied: decorator in /opt/miniconda3/lib/python3.12/site-packages (from ipython>=6.1.0->ipywidgets->pyvista[jupyter]) (5.1.1)\n",
      "Requirement already satisfied: jedi>=0.16 in /opt/miniconda3/lib/python3.12/site-packages (from ipython>=6.1.0->ipywidgets->pyvista[jupyter]) (0.18.1)\n",
      "Requirement already satisfied: matplotlib-inline in /opt/miniconda3/lib/python3.12/site-packages (from ipython>=6.1.0->ipywidgets->pyvista[jupyter]) (0.1.6)\n",
      "Requirement already satisfied: prompt-toolkit<3.1.0,>=3.0.41 in /opt/miniconda3/lib/python3.12/site-packages (from ipython>=6.1.0->ipywidgets->pyvista[jupyter]) (3.0.43)\n",
      "Requirement already satisfied: pygments>=2.4.0 in /opt/miniconda3/lib/python3.12/site-packages (from ipython>=6.1.0->ipywidgets->pyvista[jupyter]) (2.15.1)\n",
      "Requirement already satisfied: stack-data in /opt/miniconda3/lib/python3.12/site-packages (from ipython>=6.1.0->ipywidgets->pyvista[jupyter]) (0.2.0)\n",
      "Requirement already satisfied: pexpect>4.3 in /opt/miniconda3/lib/python3.12/site-packages (from ipython>=6.1.0->ipywidgets->pyvista[jupyter]) (4.8.0)\n",
      "Requirement already satisfied: anyio>=3.1.0 in /opt/miniconda3/lib/python3.12/site-packages (from jupyter-server>=1.24.0->jupyter-server-proxy->pyvista[jupyter]) (4.2.0)\n",
      "Requirement already satisfied: argon2-cffi in /opt/miniconda3/lib/python3.12/site-packages (from jupyter-server>=1.24.0->jupyter-server-proxy->pyvista[jupyter]) (21.3.0)\n",
      "Requirement already satisfied: jinja2 in /opt/miniconda3/lib/python3.12/site-packages (from jupyter-server>=1.24.0->jupyter-server-proxy->pyvista[jupyter]) (3.1.4)\n",
      "Requirement already satisfied: jupyter-client>=7.4.4 in /opt/miniconda3/lib/python3.12/site-packages (from jupyter-server>=1.24.0->jupyter-server-proxy->pyvista[jupyter]) (8.6.0)\n",
      "Requirement already satisfied: jupyter-core!=5.0.*,>=4.12 in /opt/miniconda3/lib/python3.12/site-packages (from jupyter-server>=1.24.0->jupyter-server-proxy->pyvista[jupyter]) (5.5.0)\n",
      "Requirement already satisfied: jupyter-events>=0.6.0 in /opt/miniconda3/lib/python3.12/site-packages (from jupyter-server>=1.24.0->jupyter-server-proxy->pyvista[jupyter]) (0.8.0)\n",
      "Requirement already satisfied: jupyter-server-terminals in /opt/miniconda3/lib/python3.12/site-packages (from jupyter-server>=1.24.0->jupyter-server-proxy->pyvista[jupyter]) (0.4.4)\n",
      "Requirement already satisfied: nbconvert>=6.4.4 in /opt/miniconda3/lib/python3.12/site-packages (from jupyter-server>=1.24.0->jupyter-server-proxy->pyvista[jupyter]) (7.10.0)\n",
      "Requirement already satisfied: nbformat>=5.3.0 in /opt/miniconda3/lib/python3.12/site-packages (from jupyter-server>=1.24.0->jupyter-server-proxy->pyvista[jupyter]) (5.9.2)\n",
      "Requirement already satisfied: overrides in /opt/miniconda3/lib/python3.12/site-packages (from jupyter-server>=1.24.0->jupyter-server-proxy->pyvista[jupyter]) (7.4.0)\n",
      "Requirement already satisfied: prometheus-client in /opt/miniconda3/lib/python3.12/site-packages (from jupyter-server>=1.24.0->jupyter-server-proxy->pyvista[jupyter]) (0.14.1)\n",
      "Requirement already satisfied: pyzmq>=24 in /opt/miniconda3/lib/python3.12/site-packages (from jupyter-server>=1.24.0->jupyter-server-proxy->pyvista[jupyter]) (25.1.2)\n",
      "Requirement already satisfied: send2trash>=1.8.2 in /opt/miniconda3/lib/python3.12/site-packages (from jupyter-server>=1.24.0->jupyter-server-proxy->pyvista[jupyter]) (1.8.2)\n",
      "Requirement already satisfied: terminado>=0.8.3 in /opt/miniconda3/lib/python3.12/site-packages (from jupyter-server>=1.24.0->jupyter-server-proxy->pyvista[jupyter]) (0.17.1)\n",
      "Requirement already satisfied: websocket-client in /opt/miniconda3/lib/python3.12/site-packages (from jupyter-server>=1.24.0->jupyter-server-proxy->pyvista[jupyter]) (1.8.0)\n",
      "Requirement already satisfied: six>=1.5 in /opt/miniconda3/lib/python3.12/site-packages (from python-dateutil>=2.7->matplotlib>=3.0.1->pyvista[jupyter]) (1.16.0)\n",
      "Requirement already satisfied: charset-normalizer<4,>=2 in /opt/miniconda3/lib/python3.12/site-packages (from requests>=2.19.0->pooch->pyvista[jupyter]) (2.0.4)\n",
      "Requirement already satisfied: idna<4,>=2.5 in /opt/miniconda3/lib/python3.12/site-packages (from requests>=2.19.0->pooch->pyvista[jupyter]) (3.4)\n",
      "Requirement already satisfied: urllib3<3,>=1.21.1 in /opt/miniconda3/lib/python3.12/site-packages (from requests>=2.19.0->pooch->pyvista[jupyter]) (2.1.0)\n",
      "Requirement already satisfied: certifi>=2017.4.17 in /opt/miniconda3/lib/python3.12/site-packages (from requests>=2.19.0->pooch->pyvista[jupyter]) (2024.6.2)\n",
      "Requirement already satisfied: msgpack<2,>=1 in /opt/miniconda3/lib/python3.12/site-packages (from wslink<3,>=2->trame-server>=2.11.7->pyvista[jupyter]) (1.0.8)\n",
      "Requirement already satisfied: aiosignal>=1.1.2 in /opt/miniconda3/lib/python3.12/site-packages (from aiohttp->jupyter-server-proxy->pyvista[jupyter]) (1.2.0)\n",
      "Requirement already satisfied: attrs>=17.3.0 in /opt/miniconda3/lib/python3.12/site-packages (from aiohttp->jupyter-server-proxy->pyvista[jupyter]) (23.1.0)\n",
      "Requirement already satisfied: frozenlist>=1.1.1 in /opt/miniconda3/lib/python3.12/site-packages (from aiohttp->jupyter-server-proxy->pyvista[jupyter]) (1.4.0)\n",
      "Requirement already satisfied: multidict<7.0,>=4.5 in /opt/miniconda3/lib/python3.12/site-packages (from aiohttp->jupyter-server-proxy->pyvista[jupyter]) (6.0.4)\n",
      "Requirement already satisfied: yarl<2.0,>=1.0 in /opt/miniconda3/lib/python3.12/site-packages (from aiohttp->jupyter-server-proxy->pyvista[jupyter]) (1.9.3)\n",
      "Requirement already satisfied: sniffio>=1.1 in /opt/miniconda3/lib/python3.12/site-packages (from anyio>=3.1.0->jupyter-server>=1.24.0->jupyter-server-proxy->pyvista[jupyter]) (1.3.0)\n",
      "Requirement already satisfied: parso<0.9.0,>=0.8.0 in /opt/miniconda3/lib/python3.12/site-packages (from jedi>=0.16->ipython>=6.1.0->ipywidgets->pyvista[jupyter]) (0.8.3)\n",
      "Requirement already satisfied: jsonschema>=4.18.0 in /opt/miniconda3/lib/python3.12/site-packages (from jsonschema[format-nongpl]>=4.18.0->jupyter-events>=0.6.0->jupyter-server>=1.24.0->jupyter-server-proxy->pyvista[jupyter]) (4.19.2)\n",
      "Requirement already satisfied: python-json-logger>=2.0.4 in /opt/miniconda3/lib/python3.12/site-packages (from jupyter-events>=0.6.0->jupyter-server>=1.24.0->jupyter-server-proxy->pyvista[jupyter]) (2.0.7)\n",
      "Requirement already satisfied: pyyaml>=5.3 in /opt/miniconda3/lib/python3.12/site-packages (from jupyter-events>=0.6.0->jupyter-server>=1.24.0->jupyter-server-proxy->pyvista[jupyter]) (6.0.1)\n",
      "Requirement already satisfied: referencing in /opt/miniconda3/lib/python3.12/site-packages (from jupyter-events>=0.6.0->jupyter-server>=1.24.0->jupyter-server-proxy->pyvista[jupyter]) (0.30.2)\n",
      "Requirement already satisfied: rfc3339-validator in /opt/miniconda3/lib/python3.12/site-packages (from jupyter-events>=0.6.0->jupyter-server>=1.24.0->jupyter-server-proxy->pyvista[jupyter]) (0.1.4)\n",
      "Requirement already satisfied: rfc3986-validator>=0.1.1 in /opt/miniconda3/lib/python3.12/site-packages (from jupyter-events>=0.6.0->jupyter-server>=1.24.0->jupyter-server-proxy->pyvista[jupyter]) (0.1.1)\n",
      "Requirement already satisfied: beautifulsoup4 in /opt/miniconda3/lib/python3.12/site-packages (from nbconvert>=6.4.4->jupyter-server>=1.24.0->jupyter-server-proxy->pyvista[jupyter]) (4.12.2)\n",
      "Requirement already satisfied: bleach!=5.0.0 in /opt/miniconda3/lib/python3.12/site-packages (from nbconvert>=6.4.4->jupyter-server>=1.24.0->jupyter-server-proxy->pyvista[jupyter]) (4.1.0)\n",
      "Requirement already satisfied: defusedxml in /opt/miniconda3/lib/python3.12/site-packages (from nbconvert>=6.4.4->jupyter-server>=1.24.0->jupyter-server-proxy->pyvista[jupyter]) (0.7.1)\n",
      "Requirement already satisfied: jupyterlab-pygments in /opt/miniconda3/lib/python3.12/site-packages (from nbconvert>=6.4.4->jupyter-server>=1.24.0->jupyter-server-proxy->pyvista[jupyter]) (0.1.2)\n",
      "Requirement already satisfied: markupsafe>=2.0 in /opt/miniconda3/lib/python3.12/site-packages (from nbconvert>=6.4.4->jupyter-server>=1.24.0->jupyter-server-proxy->pyvista[jupyter]) (2.1.3)\n",
      "Requirement already satisfied: mistune<4,>=2.0.3 in /opt/miniconda3/lib/python3.12/site-packages (from nbconvert>=6.4.4->jupyter-server>=1.24.0->jupyter-server-proxy->pyvista[jupyter]) (2.0.4)\n",
      "Requirement already satisfied: nbclient>=0.5.0 in /opt/miniconda3/lib/python3.12/site-packages (from nbconvert>=6.4.4->jupyter-server>=1.24.0->jupyter-server-proxy->pyvista[jupyter]) (0.8.0)\n",
      "Requirement already satisfied: pandocfilters>=1.4.1 in /opt/miniconda3/lib/python3.12/site-packages (from nbconvert>=6.4.4->jupyter-server>=1.24.0->jupyter-server-proxy->pyvista[jupyter]) (1.5.0)\n",
      "Requirement already satisfied: tinycss2 in /opt/miniconda3/lib/python3.12/site-packages (from nbconvert>=6.4.4->jupyter-server>=1.24.0->jupyter-server-proxy->pyvista[jupyter]) (1.2.1)\n",
      "Requirement already satisfied: fastjsonschema in /opt/miniconda3/lib/python3.12/site-packages (from nbformat>=5.3.0->jupyter-server>=1.24.0->jupyter-server-proxy->pyvista[jupyter]) (2.16.2)\n",
      "Requirement already satisfied: ptyprocess>=0.5 in /opt/miniconda3/lib/python3.12/site-packages (from pexpect>4.3->ipython>=6.1.0->ipywidgets->pyvista[jupyter]) (0.7.0)\n",
      "Requirement already satisfied: wcwidth in /opt/miniconda3/lib/python3.12/site-packages (from prompt-toolkit<3.1.0,>=3.0.41->ipython>=6.1.0->ipywidgets->pyvista[jupyter]) (0.2.5)\n",
      "Requirement already satisfied: argon2-cffi-bindings in /opt/miniconda3/lib/python3.12/site-packages (from argon2-cffi->jupyter-server>=1.24.0->jupyter-server-proxy->pyvista[jupyter]) (21.2.0)\n",
      "Requirement already satisfied: executing in /opt/miniconda3/lib/python3.12/site-packages (from stack-data->ipython>=6.1.0->ipywidgets->pyvista[jupyter]) (0.8.3)\n",
      "Requirement already satisfied: asttokens in /opt/miniconda3/lib/python3.12/site-packages (from stack-data->ipython>=6.1.0->ipywidgets->pyvista[jupyter]) (2.0.5)\n",
      "Requirement already satisfied: pure-eval in /opt/miniconda3/lib/python3.12/site-packages (from stack-data->ipython>=6.1.0->ipywidgets->pyvista[jupyter]) (0.2.2)\n",
      "Requirement already satisfied: webencodings in /opt/miniconda3/lib/python3.12/site-packages (from bleach!=5.0.0->nbconvert>=6.4.4->jupyter-server>=1.24.0->jupyter-server-proxy->pyvista[jupyter]) (0.5.1)\n",
      "Requirement already satisfied: jsonschema-specifications>=2023.03.6 in /opt/miniconda3/lib/python3.12/site-packages (from jsonschema>=4.18.0->jsonschema[format-nongpl]>=4.18.0->jupyter-events>=0.6.0->jupyter-server>=1.24.0->jupyter-server-proxy->pyvista[jupyter]) (2023.7.1)\n",
      "Requirement already satisfied: rpds-py>=0.7.1 in /opt/miniconda3/lib/python3.12/site-packages (from jsonschema>=4.18.0->jsonschema[format-nongpl]>=4.18.0->jupyter-events>=0.6.0->jupyter-server>=1.24.0->jupyter-server-proxy->pyvista[jupyter]) (0.10.6)\n",
      "Requirement already satisfied: fqdn in /opt/miniconda3/lib/python3.12/site-packages (from jsonschema[format-nongpl]>=4.18.0->jupyter-events>=0.6.0->jupyter-server>=1.24.0->jupyter-server-proxy->pyvista[jupyter]) (1.5.1)\n",
      "Requirement already satisfied: isoduration in /opt/miniconda3/lib/python3.12/site-packages (from jsonschema[format-nongpl]>=4.18.0->jupyter-events>=0.6.0->jupyter-server>=1.24.0->jupyter-server-proxy->pyvista[jupyter]) (20.11.0)\n",
      "Requirement already satisfied: jsonpointer>1.13 in /opt/miniconda3/lib/python3.12/site-packages (from jsonschema[format-nongpl]>=4.18.0->jupyter-events>=0.6.0->jupyter-server>=1.24.0->jupyter-server-proxy->pyvista[jupyter]) (2.1)\n",
      "Requirement already satisfied: uri-template in /opt/miniconda3/lib/python3.12/site-packages (from jsonschema[format-nongpl]>=4.18.0->jupyter-events>=0.6.0->jupyter-server>=1.24.0->jupyter-server-proxy->pyvista[jupyter]) (1.3.0)\n",
      "Requirement already satisfied: webcolors>=1.11 in /opt/miniconda3/lib/python3.12/site-packages (from jsonschema[format-nongpl]>=4.18.0->jupyter-events>=0.6.0->jupyter-server>=1.24.0->jupyter-server-proxy->pyvista[jupyter]) (24.6.0)\n",
      "Requirement already satisfied: cffi>=1.0.1 in /opt/miniconda3/lib/python3.12/site-packages (from argon2-cffi-bindings->argon2-cffi->jupyter-server>=1.24.0->jupyter-server-proxy->pyvista[jupyter]) (1.16.0)\n",
      "Requirement already satisfied: soupsieve>1.2 in /opt/miniconda3/lib/python3.12/site-packages (from beautifulsoup4->nbconvert>=6.4.4->jupyter-server>=1.24.0->jupyter-server-proxy->pyvista[jupyter]) (2.5)\n",
      "Requirement already satisfied: pycparser in /opt/miniconda3/lib/python3.12/site-packages (from cffi>=1.0.1->argon2-cffi-bindings->argon2-cffi->jupyter-server>=1.24.0->jupyter-server-proxy->pyvista[jupyter]) (2.21)\n",
      "Requirement already satisfied: arrow>=0.15.0 in /opt/miniconda3/lib/python3.12/site-packages (from isoduration->jsonschema[format-nongpl]>=4.18.0->jupyter-events>=0.6.0->jupyter-server>=1.24.0->jupyter-server-proxy->pyvista[jupyter]) (1.3.0)\n",
      "Requirement already satisfied: types-python-dateutil>=2.8.10 in /opt/miniconda3/lib/python3.12/site-packages (from arrow>=0.15.0->isoduration->jsonschema[format-nongpl]>=4.18.0->jupyter-events>=0.6.0->jupyter-server>=1.24.0->jupyter-server-proxy->pyvista[jupyter]) (2.9.0.20240316)\n"
     ]
    }
   ],
   "source": [
    "!pip install \"pyvista[jupyter]\""
   ]
  },
  {
   "cell_type": "code",
   "execution_count": null,
   "id": "7e4b0399-2f07-4348-b60d-e6f61df90f91",
   "metadata": {},
   "outputs": [],
   "source": []
  },
  {
   "cell_type": "code",
   "execution_count": 4,
   "id": "fef36359-f912-4d52-9cc4-faaa7e9ac29e",
   "metadata": {},
   "outputs": [],
   "source": [
    "import pyvista as pv"
   ]
  },
  {
   "cell_type": "code",
   "execution_count": 5,
   "id": "0a06c5fe-1ac7-46fd-970b-13bb0c54145b",
   "metadata": {},
   "outputs": [
    {
     "name": "stdout",
     "output_type": "stream",
     "text": [
      "Requirement already satisfied: trame in /opt/miniconda3/lib/python3.12/site-packages (3.6.3)\n",
      "Requirement already satisfied: trame-server<4,>=3 in /opt/miniconda3/lib/python3.12/site-packages (from trame) (3.0.3)\n",
      "Requirement already satisfied: trame-client<4,>=3 in /opt/miniconda3/lib/python3.12/site-packages (from trame) (3.2.1)\n",
      "Requirement already satisfied: wslink<3,>=2 in /opt/miniconda3/lib/python3.12/site-packages (from trame-server<4,>=3->trame) (2.1.1)\n",
      "Requirement already satisfied: more-itertools in /opt/miniconda3/lib/python3.12/site-packages (from trame-server<4,>=3->trame) (10.3.0)\n",
      "Requirement already satisfied: aiohttp<4 in /opt/miniconda3/lib/python3.12/site-packages (from wslink<3,>=2->trame-server<4,>=3->trame) (3.9.5)\n",
      "Requirement already satisfied: msgpack<2,>=1 in /opt/miniconda3/lib/python3.12/site-packages (from wslink<3,>=2->trame-server<4,>=3->trame) (1.0.8)\n",
      "Requirement already satisfied: aiosignal>=1.1.2 in /opt/miniconda3/lib/python3.12/site-packages (from aiohttp<4->wslink<3,>=2->trame-server<4,>=3->trame) (1.2.0)\n",
      "Requirement already satisfied: attrs>=17.3.0 in /opt/miniconda3/lib/python3.12/site-packages (from aiohttp<4->wslink<3,>=2->trame-server<4,>=3->trame) (23.1.0)\n",
      "Requirement already satisfied: frozenlist>=1.1.1 in /opt/miniconda3/lib/python3.12/site-packages (from aiohttp<4->wslink<3,>=2->trame-server<4,>=3->trame) (1.4.0)\n",
      "Requirement already satisfied: multidict<7.0,>=4.5 in /opt/miniconda3/lib/python3.12/site-packages (from aiohttp<4->wslink<3,>=2->trame-server<4,>=3->trame) (6.0.4)\n",
      "Requirement already satisfied: yarl<2.0,>=1.0 in /opt/miniconda3/lib/python3.12/site-packages (from aiohttp<4->wslink<3,>=2->trame-server<4,>=3->trame) (1.9.3)\n",
      "Requirement already satisfied: idna>=2.0 in /opt/miniconda3/lib/python3.12/site-packages (from yarl<2.0,>=1.0->aiohttp<4->wslink<3,>=2->trame-server<4,>=3->trame) (3.4)\n"
     ]
    }
   ],
   "source": [
    "!pip install trame"
   ]
  },
  {
   "cell_type": "code",
   "execution_count": 6,
   "id": "12639abd-f5b3-4da2-94d9-1f0c766bcfc7",
   "metadata": {},
   "outputs": [],
   "source": [
    "# from pyvista import examples\n",
    "# mesh = examples.download_st_helens()\n",
    "# warped = mesh.warp_by_scalar('Elevation')\n",
    "# surf = warped.extract_surface().triangulate()\n",
    "# surf = surf.decimate_pro(0.75)  # reduce the density of the mesh by 75%\n",
    "# surf.plot(cmap='gist_earth')"
   ]
  },
  {
   "cell_type": "code",
   "execution_count": 7,
   "id": "94359568-cb2d-428b-8ae1-25ac76ef8d57",
   "metadata": {},
   "outputs": [
    {
     "data": {
      "text/html": [
       "<table style='border: 1.5px solid;'>\n",
       "  <tr>\n",
       "     <td style='text-align: center; font-weight: bold; font-size: 1.2em; border: 1px solid;' colspan='6'>Thu Aug 08 16:44:28 2024 PDT</td>\n",
       "  </tr>\n",
       "  <tr>\n",
       "    <td style='text-align: right; border: 1px solid;'>OS</td>\n",
       "    <td style='text-align: left; border: 1px solid;'>Darwin (macOS 14.5)</td>\n",
       "    <td style='text-align: right; border: 1px solid;'>CPU(s)</td>\n",
       "    <td style='text-align: left; border: 1px solid;'>10</td>\n",
       "    <td style='text-align: right; border: 1px solid;'>Machine</td>\n",
       "    <td style='text-align: left; border: 1px solid;'>arm64</td>\n",
       "  </tr>\n",
       "  <tr>\n",
       "    <td style='text-align: right; border: 1px solid;'>Architecture</td>\n",
       "    <td style='text-align: left; border: 1px solid;'>64bit</td>\n",
       "    <td style='text-align: right; border: 1px solid;'>RAM</td>\n",
       "    <td style='text-align: left; border: 1px solid;'>16.0 GiB</td>\n",
       "    <td style='text-align: right; border: 1px solid;'>Environment</td>\n",
       "    <td style='text-align: left; border: 1px solid;'>Jupyter</td>\n",
       "  </tr>\n",
       "  <tr>\n",
       "    <td style='text-align: right; border: 1px solid;'>File system</td>\n",
       "    <td style='text-align: left; border: 1px solid;'>apfs</td>\n",
       "    <td style='text-align: right; border: 1px solid;'>GPU Vendor</td>\n",
       "    <td style='text-align: left; border: 1px solid;'>Apple</td>\n",
       "    <td style='text-align: right; border: 1px solid;'>GPU Renderer</td>\n",
       "    <td style='text-align: left; border: 1px solid;'>Apple M2 Pro</td>\n",
       "  </tr>\n",
       "  <tr>\n",
       "    <td style='text-align: right; border: 1px solid;'>GPU Version</td>\n",
       "    <td style='text-align: left; border: 1px solid;'>4.1 Metal - 88.1</td>\n",
       "    <td style='text-align: right; border: 1px solid;'>MathText Support</td>\n",
       "    <td style='text-align: left; border: 1px solid;'>True</td>\n",
       "  </tr>\n",
       "  <tr>\n",
       "     <td style='text-align: center; border: 1px solid;' colspan='6'>Python 3.12.2 | packaged by Anaconda, Inc. | (main, Feb 27 2024, 12:57:28) [Clang 14.0.6 ]</td>\n",
       "  </tr>\n",
       "  <tr>\n",
       "    <td style='text-align: right; border: 1px solid;'>pyvista</td>\n",
       "    <td style='text-align: left; border: 1px solid;'>0.44.1</td>\n",
       "    <td style='text-align: right; border: 1px solid;'>vtk</td>\n",
       "    <td style='text-align: left; border: 1px solid;'>9.3.1</td>\n",
       "    <td style='text-align: right; border: 1px solid;'>numpy</td>\n",
       "    <td style='text-align: left; border: 1px solid;'>1.26.4</td>\n",
       "  </tr>\n",
       "  <tr>\n",
       "    <td style='text-align: right; border: 1px solid;'>matplotlib</td>\n",
       "    <td style='text-align: left; border: 1px solid;'>3.8.4</td>\n",
       "    <td style='text-align: right; border: 1px solid;'>scooby</td>\n",
       "    <td style='text-align: left; border: 1px solid;'>0.10.0</td>\n",
       "    <td style='text-align: right; border: 1px solid;'>pooch</td>\n",
       "    <td style='text-align: left; border: 1px solid;'>1.8.2</td>\n",
       "  </tr>\n",
       "  <tr>\n",
       "    <td style='text-align: right; border: 1px solid;'>pillow</td>\n",
       "    <td style='text-align: left; border: 1px solid;'>10.3.0</td>\n",
       "    <td style='text-align: right; border: 1px solid;'>PyQt5</td>\n",
       "    <td style='text-align: left; border: 1px solid;'>5.15.10</td>\n",
       "    <td style='text-align: right; border: 1px solid;'>IPython</td>\n",
       "    <td style='text-align: left; border: 1px solid;'>8.20.0</td>\n",
       "  </tr>\n",
       "  <tr>\n",
       "    <td style='text-align: right; border: 1px solid;'>ipywidgets</td>\n",
       "    <td style='text-align: left; border: 1px solid;'>8.1.2</td>\n",
       "    <td style='text-align: right; border: 1px solid;'>scipy</td>\n",
       "    <td style='text-align: left; border: 1px solid;'>1.12.0</td>\n",
       "    <td style='text-align: right; border: 1px solid;'>tqdm</td>\n",
       "    <td style='text-align: left; border: 1px solid;'>4.65.0</td>\n",
       "  </tr>\n",
       "  <tr>\n",
       "    <td style='text-align: right; border: 1px solid;'>jupyterlab</td>\n",
       "    <td style='text-align: left; border: 1px solid;'>4.0.11</td>\n",
       "    <td style='text-align: right; border: 1px solid;'>trame</td>\n",
       "    <td style='text-align: left; border: 1px solid;'>3.6.3</td>\n",
       "    <td style='text-align: right; border: 1px solid;'>trame_client</td>\n",
       "    <td style='text-align: left; border: 1px solid;'>3.2.1</td>\n",
       "  </tr>\n",
       "  <tr>\n",
       "    <td style='text-align: right; border: 1px solid;'>trame_server</td>\n",
       "    <td style='text-align: left; border: 1px solid;'>3.0.3</td>\n",
       "    <td style='text-align: right; border: 1px solid;'>trame_vtk</td>\n",
       "    <td style='text-align: left; border: 1px solid;'>2.8.9</td>\n",
       "    <td style='text-align: right; border: 1px solid;'>trame_vuetify</td>\n",
       "    <td style='text-align: left; border: 1px solid;'>2.6.2</td>\n",
       "  </tr>\n",
       "  <tr>\n",
       "    <td style='text-align: right; border: 1px solid;'>jupyter_server_proxy</td>\n",
       "    <td style='text-align: left; border: 1px solid;'>4.3.0</td>\n",
       "    <td style='text-align: right; border: 1px solid;'>nest_asyncio</td>\n",
       "    <td style='text-align: left; border: 1px solid;'>1.6.0</td>\n",
       "    <td style= border: 1px solid;'></td>\n",
       "    <td style= border: 1px solid;'></td>\n",
       "  </tr>\n",
       "</table>"
      ],
      "text/plain": [
       "\n",
       "--------------------------------------------------------------------------------\n",
       "  Date: Thu Aug 08 16:44:28 2024 PDT\n",
       "\n",
       "                  OS : Darwin (macOS 14.5)\n",
       "              CPU(s) : 10\n",
       "             Machine : arm64\n",
       "        Architecture : 64bit\n",
       "                 RAM : 16.0 GiB\n",
       "         Environment : Jupyter\n",
       "         File system : apfs\n",
       "          GPU Vendor : Apple\n",
       "        GPU Renderer : Apple M2 Pro\n",
       "         GPU Version : 4.1 Metal - 88.1\n",
       "    MathText Support : True\n",
       "\n",
       "  Python 3.12.2 | packaged by Anaconda, Inc. | (main, Feb 27 2024, 12:57:28)\n",
       "  [Clang 14.0.6 ]\n",
       "\n",
       "             pyvista : 0.44.1\n",
       "                 vtk : 9.3.1\n",
       "               numpy : 1.26.4\n",
       "          matplotlib : 3.8.4\n",
       "              scooby : 0.10.0\n",
       "               pooch : 1.8.2\n",
       "              pillow : 10.3.0\n",
       "               PyQt5 : 5.15.10\n",
       "             IPython : 8.20.0\n",
       "          ipywidgets : 8.1.2\n",
       "               scipy : 1.12.0\n",
       "                tqdm : 4.65.0\n",
       "          jupyterlab : 4.0.11\n",
       "               trame : 3.6.3\n",
       "        trame_client : 3.2.1\n",
       "        trame_server : 3.0.3\n",
       "           trame_vtk : 2.8.9\n",
       "       trame_vuetify : 2.6.2\n",
       "jupyter_server_proxy : 4.3.0\n",
       "        nest_asyncio : 1.6.0\n",
       "--------------------------------------------------------------------------------"
      ]
     },
     "execution_count": 7,
     "metadata": {},
     "output_type": "execute_result"
    }
   ],
   "source": [
    "pv.Report(gpu=True)"
   ]
  },
  {
   "cell_type": "code",
   "execution_count": 8,
   "id": "44f0defa-27f1-44d7-9f13-6f29819b8fcd",
   "metadata": {},
   "outputs": [],
   "source": [
    "volume = pv.read('boussinesq2d.vti')"
   ]
  },
  {
   "cell_type": "code",
   "execution_count": 9,
   "id": "e4cb6128-dbf0-467b-9bd1-3f3138771be4",
   "metadata": {},
   "outputs": [
    {
     "data": {
      "text/plain": [
       "pyvista.core.grid.ImageData"
      ]
     },
     "execution_count": 9,
     "metadata": {},
     "output_type": "execute_result"
    }
   ],
   "source": [
    "type(volume)"
   ]
  },
  {
   "cell_type": "code",
   "execution_count": 10,
   "id": "553c2bac-564d-4866-8b69-527a5f0013d4",
   "metadata": {},
   "outputs": [],
   "source": [
    "v = volume.cast_to_rectilinear_grid()"
   ]
  },
  {
   "cell_type": "code",
   "execution_count": 11,
   "id": "9f35fe1a-96a6-4995-a6d0-7636e10da0df",
   "metadata": {},
   "outputs": [
    {
     "data": {
      "text/html": [
       "<table style='width: 100%;'><tr><th>Header</th><th>Data Arrays</th></tr><tr><td>\n",
       "<table style='width: 100%;'>\n",
       "<tr><th>RectilinearGrid</th><th>Information</th></tr>\n",
       "<tr><td>N Cells</td><td>133802000</td></tr>\n",
       "<tr><td>N Points</td><td>135067500</td></tr>\n",
       "<tr><td>X Bounds</td><td>-5.000e-01, 5.000e-01</td></tr>\n",
       "<tr><td>Y Bounds</td><td>-5.000e-01, 2.500e+00</td></tr>\n",
       "<tr><td>Z Bounds</td><td>0.000e+00, 2.000e+01</td></tr>\n",
       "<tr><td>Dimensions</td><td>150, 450, 2001</td></tr>\n",
       "<tr><td>N Arrays</td><td>2</td></tr>\n",
       "</table>\n",
       "\n",
       "</td><td>\n",
       "<table style='width: 100%;'>\n",
       "<tr><th>Name</th><th>Field</th><th>Type</th><th>N Comp</th><th>Min</th><th>Max</th></tr>\n",
       "<tr><td><b>u</b></td><td>Points</td><td>float32</td><td>1</td><td>-6.811e-01</td><td>6.313e-01</td></tr>\n",
       "<tr><td>v</td><td>Points</td><td>float32</td><td>1</td><td>-1.253e+00</td><td>1.023e+00</td></tr>\n",
       "</table>\n",
       "\n",
       "</td></tr> </table>"
      ],
      "text/plain": [
       "RectilinearGrid (0x169af3e20)\n",
       "  N Cells:      133802000\n",
       "  N Points:     135067500\n",
       "  X Bounds:     -5.000e-01, 5.000e-01\n",
       "  Y Bounds:     -5.000e-01, 2.500e+00\n",
       "  Z Bounds:     0.000e+00, 2.000e+01\n",
       "  Dimensions:   150, 450, 2001\n",
       "  N Arrays:     2"
      ]
     },
     "execution_count": 11,
     "metadata": {},
     "output_type": "execute_result"
    }
   ],
   "source": [
    "v"
   ]
  },
  {
   "cell_type": "code",
   "execution_count": 12,
   "id": "bdacee49-3055-47c8-a692-9adbe30edb7d",
   "metadata": {},
   "outputs": [],
   "source": [
    "temp = v.compute_derivative(scalars='u',gradient='du')"
   ]
  },
  {
   "cell_type": "code",
   "execution_count": 13,
   "id": "de28828e-ba2d-4447-ab77-d4c4ec2f3fb7",
   "metadata": {},
   "outputs": [
    {
     "data": {
      "text/html": [
       "<table style='width: 100%;'><tr><th>Header</th><th>Data Arrays</th></tr><tr><td>\n",
       "<table style='width: 100%;'>\n",
       "<tr><th>RectilinearGrid</th><th>Information</th></tr>\n",
       "<tr><td>N Cells</td><td>133802000</td></tr>\n",
       "<tr><td>N Points</td><td>135067500</td></tr>\n",
       "<tr><td>X Bounds</td><td>-5.000e-01, 5.000e-01</td></tr>\n",
       "<tr><td>Y Bounds</td><td>-5.000e-01, 2.500e+00</td></tr>\n",
       "<tr><td>Z Bounds</td><td>0.000e+00, 2.000e+01</td></tr>\n",
       "<tr><td>Dimensions</td><td>150, 450, 2001</td></tr>\n",
       "<tr><td>N Arrays</td><td>3</td></tr>\n",
       "</table>\n",
       "\n",
       "</td><td>\n",
       "<table style='width: 100%;'>\n",
       "<tr><th>Name</th><th>Field</th><th>Type</th><th>N Comp</th><th>Min</th><th>Max</th></tr>\n",
       "<tr><td><b>u</b></td><td>Points</td><td>float32</td><td>1</td><td>-6.811e-01</td><td>6.313e-01</td></tr>\n",
       "<tr><td>v</td><td>Points</td><td>float32</td><td>1</td><td>-1.253e+00</td><td>1.023e+00</td></tr>\n",
       "<tr><td>du</td><td>Points</td><td>float32</td><td>3</td><td>-3.184e+01</td><td>3.141e+01</td></tr>\n",
       "</table>\n",
       "\n",
       "</td></tr> </table>"
      ],
      "text/plain": [
       "RectilinearGrid (0x176339840)\n",
       "  N Cells:      133802000\n",
       "  N Points:     135067500\n",
       "  X Bounds:     -5.000e-01, 5.000e-01\n",
       "  Y Bounds:     -5.000e-01, 2.500e+00\n",
       "  Z Bounds:     0.000e+00, 2.000e+01\n",
       "  Dimensions:   150, 450, 2001\n",
       "  N Arrays:     3"
      ]
     },
     "execution_count": 13,
     "metadata": {},
     "output_type": "execute_result"
    }
   ],
   "source": [
    "temp"
   ]
  },
  {
   "cell_type": "code",
   "execution_count": 14,
   "id": "6ad93387-6469-4ea1-b9bc-b9945400053e",
   "metadata": {},
   "outputs": [],
   "source": [
    "temp = temp.compute_derivative(scalars='v',gradient='dv')"
   ]
  },
  {
   "cell_type": "code",
   "execution_count": 15,
   "id": "887269ec-7cf1-4457-98df-3767abc25a27",
   "metadata": {},
   "outputs": [],
   "source": [
    "# bounds = volume.bounds\n",
    "# _, _, _, _, zmin, zmax = bounds\n",
    "\n",
    "# # Determine the number of slices in the Z dimension\n",
    "# nz = volume.dimensions[2]\n",
    "\n",
    "# # Create a PyVista plotter\n",
    "# plotter = pv.Plotter()\n",
    "\n",
    "# # Loop over each slice in the Z dimension\n",
    "# for i in range(nz):\n",
    "#     # Extract the i-th slice\n",
    "#     slice = volume.slice(normal=[1, 0, 0], origin=[0, 0, zmin + i])\n",
    "    \n",
    "#     # Add the slice to the plotter with a label\n",
    "#     plotter.add_mesh(slice, name=f\"Slice {i}\", opacity=0.5)\n",
    "#     break\n",
    "# # Set the plotter to update the Z axis as the time step\n",
    "# plotter.show_grid()\n",
    "# plotter.view_xy()"
   ]
  },
  {
   "cell_type": "code",
   "execution_count": 16,
   "id": "66b153c3-c3b6-40c3-a3b9-0b9a016baf8d",
   "metadata": {},
   "outputs": [
    {
     "data": {
      "text/html": [
       "<table style='width: 100%;'><tr><th>Header</th><th>Data Arrays</th></tr><tr><td>\n",
       "<table style='width: 100%;'>\n",
       "<tr><th>RectilinearGrid</th><th>Information</th></tr>\n",
       "<tr><td>N Cells</td><td>133802000</td></tr>\n",
       "<tr><td>N Points</td><td>135067500</td></tr>\n",
       "<tr><td>X Bounds</td><td>-5.000e-01, 5.000e-01</td></tr>\n",
       "<tr><td>Y Bounds</td><td>-5.000e-01, 2.500e+00</td></tr>\n",
       "<tr><td>Z Bounds</td><td>0.000e+00, 2.000e+01</td></tr>\n",
       "<tr><td>Dimensions</td><td>150, 450, 2001</td></tr>\n",
       "<tr><td>N Arrays</td><td>4</td></tr>\n",
       "</table>\n",
       "\n",
       "</td><td>\n",
       "<table style='width: 100%;'>\n",
       "<tr><th>Name</th><th>Field</th><th>Type</th><th>N Comp</th><th>Min</th><th>Max</th></tr>\n",
       "<tr><td><b>u</b></td><td>Points</td><td>float32</td><td>1</td><td>-6.811e-01</td><td>6.313e-01</td></tr>\n",
       "<tr><td>v</td><td>Points</td><td>float32</td><td>1</td><td>-1.253e+00</td><td>1.023e+00</td></tr>\n",
       "<tr><td>du</td><td>Points</td><td>float32</td><td>3</td><td>-3.184e+01</td><td>3.141e+01</td></tr>\n",
       "<tr><td>dv</td><td>Points</td><td>float32</td><td>3</td><td>-3.825e+01</td><td>4.607e+01</td></tr>\n",
       "</table>\n",
       "\n",
       "</td></tr> </table>"
      ],
      "text/plain": [
       "RectilinearGrid (0x1763399c0)\n",
       "  N Cells:      133802000\n",
       "  N Points:     135067500\n",
       "  X Bounds:     -5.000e-01, 5.000e-01\n",
       "  Y Bounds:     -5.000e-01, 2.500e+00\n",
       "  Z Bounds:     0.000e+00, 2.000e+01\n",
       "  Dimensions:   150, 450, 2001\n",
       "  N Arrays:     4"
      ]
     },
     "execution_count": 16,
     "metadata": {},
     "output_type": "execute_result"
    }
   ],
   "source": [
    "temp"
   ]
  },
  {
   "cell_type": "code",
   "execution_count": 17,
   "id": "21560257-65e4-43b8-921c-45b63a5aec04",
   "metadata": {},
   "outputs": [],
   "source": [
    "import numpy as np"
   ]
  },
  {
   "cell_type": "code",
   "execution_count": 18,
   "id": "e071a486-f287-4e6a-9a66-f8b2efbfe53b",
   "metadata": {},
   "outputs": [],
   "source": [
    "def gradients_to_dict(arr, name):\n",
    "    \"\"\"A helper method to label the gradients into a dictionary.\"\"\"\n",
    "    keys = np.array(\n",
    "        [f\"{name}/dx\", f\"{name}/dy\", f\"{name}/dt\"],\n",
    "    )\n",
    "    return dict(zip(keys, temp[name].T))\n",
    "\n",
    "du = gradients_to_dict(temp, 'du')\n",
    "dv = gradients_to_dict(temp, 'dv')"
   ]
  },
  {
   "cell_type": "code",
   "execution_count": 19,
   "id": "2c1053b2-5b21-432e-95d9-36f9b0b49323",
   "metadata": {},
   "outputs": [],
   "source": [
    "temp.point_data.update(du)"
   ]
  },
  {
   "cell_type": "code",
   "execution_count": 26,
   "id": "05989f57-be11-4bd8-bb82-81bc4611cd64",
   "metadata": {},
   "outputs": [
    {
     "data": {
      "text/plain": [
       "(135067500,)"
      ]
     },
     "execution_count": 26,
     "metadata": {},
     "output_type": "execute_result"
    }
   ],
   "source": [
    "temp['u'].shape"
   ]
  },
  {
   "cell_type": "code",
   "execution_count": 20,
   "id": "9a934ed3-5f19-4be5-9b88-2486489834e6",
   "metadata": {},
   "outputs": [
    {
     "data": {
      "text/html": [
       "<table style='width: 100%;'><tr><th>Header</th><th>Data Arrays</th></tr><tr><td>\n",
       "<table style='width: 100%;'>\n",
       "<tr><th>RectilinearGrid</th><th>Information</th></tr>\n",
       "<tr><td>N Cells</td><td>133802000</td></tr>\n",
       "<tr><td>N Points</td><td>135067500</td></tr>\n",
       "<tr><td>X Bounds</td><td>-5.000e-01, 5.000e-01</td></tr>\n",
       "<tr><td>Y Bounds</td><td>-5.000e-01, 2.500e+00</td></tr>\n",
       "<tr><td>Z Bounds</td><td>0.000e+00, 2.000e+01</td></tr>\n",
       "<tr><td>Dimensions</td><td>150, 450, 2001</td></tr>\n",
       "<tr><td>N Arrays</td><td>7</td></tr>\n",
       "</table>\n",
       "\n",
       "</td><td>\n",
       "<table style='width: 100%;'>\n",
       "<tr><th>Name</th><th>Field</th><th>Type</th><th>N Comp</th><th>Min</th><th>Max</th></tr>\n",
       "<tr><td><b>u</b></td><td>Points</td><td>float32</td><td>1</td><td>-6.811e-01</td><td>6.313e-01</td></tr>\n",
       "<tr><td>v</td><td>Points</td><td>float32</td><td>1</td><td>-1.253e+00</td><td>1.023e+00</td></tr>\n",
       "<tr><td>du</td><td>Points</td><td>float32</td><td>3</td><td>-3.184e+01</td><td>3.141e+01</td></tr>\n",
       "<tr><td>dv</td><td>Points</td><td>float32</td><td>3</td><td>-3.825e+01</td><td>4.607e+01</td></tr>\n",
       "<tr><td>du/dx</td><td>Points</td><td>float32</td><td>1</td><td>-2.639e+01</td><td>1.845e+01</td></tr>\n",
       "<tr><td>du/dy</td><td>Points</td><td>float32</td><td>1</td><td>-3.184e+01</td><td>3.141e+01</td></tr>\n",
       "<tr><td>du/dt</td><td>Points</td><td>float32</td><td>1</td><td>-1.343e+01</td><td>1.460e+01</td></tr>\n",
       "</table>\n",
       "\n",
       "</td></tr> </table>"
      ],
      "text/plain": [
       "RectilinearGrid (0x1763399c0)\n",
       "  N Cells:      133802000\n",
       "  N Points:     135067500\n",
       "  X Bounds:     -5.000e-01, 5.000e-01\n",
       "  Y Bounds:     -5.000e-01, 2.500e+00\n",
       "  Z Bounds:     0.000e+00, 2.000e+01\n",
       "  Dimensions:   150, 450, 2001\n",
       "  N Arrays:     7"
      ]
     },
     "execution_count": 20,
     "metadata": {},
     "output_type": "execute_result"
    }
   ],
   "source": [
    "temp"
   ]
  },
  {
   "cell_type": "code",
   "execution_count": 21,
   "id": "51bc3cf7-85df-4e2d-8eac-ea8faf9e2e7e",
   "metadata": {},
   "outputs": [],
   "source": [
    "temp.point_data.update(dv)"
   ]
  },
  {
   "cell_type": "code",
   "execution_count": 22,
   "id": "481ee231-4516-4302-8420-93c34c5d9be7",
   "metadata": {},
   "outputs": [
    {
     "data": {
      "text/html": [
       "<table style='width: 100%;'><tr><th>Header</th><th>Data Arrays</th></tr><tr><td>\n",
       "<table style='width: 100%;'>\n",
       "<tr><th>RectilinearGrid</th><th>Information</th></tr>\n",
       "<tr><td>N Cells</td><td>133802000</td></tr>\n",
       "<tr><td>N Points</td><td>135067500</td></tr>\n",
       "<tr><td>X Bounds</td><td>-5.000e-01, 5.000e-01</td></tr>\n",
       "<tr><td>Y Bounds</td><td>-5.000e-01, 2.500e+00</td></tr>\n",
       "<tr><td>Z Bounds</td><td>0.000e+00, 2.000e+01</td></tr>\n",
       "<tr><td>Dimensions</td><td>150, 450, 2001</td></tr>\n",
       "<tr><td>N Arrays</td><td>10</td></tr>\n",
       "</table>\n",
       "\n",
       "</td><td>\n",
       "<table style='width: 100%;'>\n",
       "<tr><th>Name</th><th>Field</th><th>Type</th><th>N Comp</th><th>Min</th><th>Max</th></tr>\n",
       "<tr><td><b>u</b></td><td>Points</td><td>float32</td><td>1</td><td>-6.811e-01</td><td>6.313e-01</td></tr>\n",
       "<tr><td>v</td><td>Points</td><td>float32</td><td>1</td><td>-1.253e+00</td><td>1.023e+00</td></tr>\n",
       "<tr><td>du</td><td>Points</td><td>float32</td><td>3</td><td>-3.184e+01</td><td>3.141e+01</td></tr>\n",
       "<tr><td>dv</td><td>Points</td><td>float32</td><td>3</td><td>-3.825e+01</td><td>4.607e+01</td></tr>\n",
       "<tr><td>du/dx</td><td>Points</td><td>float32</td><td>1</td><td>-2.639e+01</td><td>1.845e+01</td></tr>\n",
       "<tr><td>du/dy</td><td>Points</td><td>float32</td><td>1</td><td>-3.184e+01</td><td>3.141e+01</td></tr>\n",
       "<tr><td>du/dt</td><td>Points</td><td>float32</td><td>1</td><td>-1.343e+01</td><td>1.460e+01</td></tr>\n",
       "<tr><td>dv/dx</td><td>Points</td><td>float32</td><td>1</td><td>-3.825e+01</td><td>4.607e+01</td></tr>\n",
       "<tr><td>dv/dy</td><td>Points</td><td>float32</td><td>1</td><td>-2.564e+01</td><td>3.417e+01</td></tr>\n",
       "<tr><td>dv/dt</td><td>Points</td><td>float32</td><td>1</td><td>-8.013e+00</td><td>8.757e+00</td></tr>\n",
       "</table>\n",
       "\n",
       "</td></tr> </table>"
      ],
      "text/plain": [
       "RectilinearGrid (0x1763399c0)\n",
       "  N Cells:      133802000\n",
       "  N Points:     135067500\n",
       "  X Bounds:     -5.000e-01, 5.000e-01\n",
       "  Y Bounds:     -5.000e-01, 2.500e+00\n",
       "  Z Bounds:     0.000e+00, 2.000e+01\n",
       "  Dimensions:   150, 450, 2001\n",
       "  N Arrays:     10"
      ]
     },
     "execution_count": 22,
     "metadata": {},
     "output_type": "execute_result"
    }
   ],
   "source": [
    "temp"
   ]
  },
  {
   "cell_type": "code",
   "execution_count": 23,
   "id": "5bb16a0a-9895-44e7-bdab-6551bb79a5e3",
   "metadata": {},
   "outputs": [],
   "source": [
    "du_dx = temp['du/dx']\n",
    "du_dy = temp['du/dy']\n",
    "dv_dx = temp['dv/dx']\n",
    "dv_dy = temp['dv/dy']"
   ]
  },
  {
   "cell_type": "code",
   "execution_count": 24,
   "id": "0623ee83-8ed2-4a76-9178-1b9e5fb3ceb1",
   "metadata": {},
   "outputs": [
    {
     "data": {
      "text/plain": [
       "pyvista_ndarray([0.        , 0.        , 0.        , ..., 0.10204075,\n",
       "                 0.14119732, 0.15046108], dtype=float32)"
      ]
     },
     "execution_count": 24,
     "metadata": {},
     "output_type": "execute_result"
    }
   ],
   "source": [
    "divergence = du_dx + dv_dy\n",
    "divergence"
   ]
  },
  {
   "cell_type": "code",
   "execution_count": 25,
   "id": "593359bf-70ce-4164-81bb-141f6c775f41",
   "metadata": {},
   "outputs": [
    {
     "ename": "ValueError",
     "evalue": "cannot reshape array of size 135067500 into shape (459,150,2001)",
     "output_type": "error",
     "traceback": [
      "\u001b[0;31m---------------------------------------------------------------------------\u001b[0m",
      "\u001b[0;31mValueError\u001b[0m                                Traceback (most recent call last)",
      "Cell \u001b[0;32mIn[25], line 1\u001b[0m\n\u001b[0;32m----> 1\u001b[0m du_dx\u001b[38;5;241m.\u001b[39mreshape(\u001b[38;5;241m459\u001b[39m, \u001b[38;5;241m150\u001b[39m, \u001b[38;5;241m2001\u001b[39m)\n",
      "\u001b[0;31mValueError\u001b[0m: cannot reshape array of size 135067500 into shape (459,150,2001)"
     ]
    }
   ],
   "source": []
  },
  {
   "cell_type": "code",
   "execution_count": null,
   "id": "d0a4e0a2-cb6c-4e21-8314-0f5aa8029d7f",
   "metadata": {},
   "outputs": [],
   "source": [
    "divergence"
   ]
  },
  {
   "cell_type": "code",
   "execution_count": null,
   "id": "e06cb90f-77b1-4b9f-8721-e21d3c24e221",
   "metadata": {},
   "outputs": [],
   "source": []
  },
  {
   "cell_type": "code",
   "execution_count": null,
   "id": "13e0f13e-9996-476f-965f-abf3cff75346",
   "metadata": {},
   "outputs": [],
   "source": []
  },
  {
   "cell_type": "code",
   "execution_count": null,
   "id": "a918dfd7-783e-4bf7-ab5c-4b9e1a78c356",
   "metadata": {},
   "outputs": [],
   "source": [
    "import numpy as np"
   ]
  },
  {
   "cell_type": "code",
   "execution_count": null,
   "id": "405a98f8-2eb7-40e5-a101-728c4c4afcb8",
   "metadata": {},
   "outputs": [],
   "source": [
    "np_arr = volume.points"
   ]
  },
  {
   "cell_type": "code",
   "execution_count": null,
   "id": "5767edff-34a0-4aa4-95f9-1fc41558b448",
   "metadata": {},
   "outputs": [],
   "source": [
    "volume.dimensions"
   ]
  },
  {
   "cell_type": "code",
   "execution_count": null,
   "id": "d480643c-27be-4815-aeb0-c5f964b94d1f",
   "metadata": {},
   "outputs": [],
   "source": [
    "import math\n",
    "sub= volume.extract_subset([0,149,0,449,1120,1120])\n",
    "u = sub['u']\n",
    "maximum = -math.inf\n",
    "for i in range(u.shape[0]):\n",
    "    if u[i] > maximum:\n",
    "        maximum = u[i]\n",
    "print(maximum)"
   ]
  },
  {
   "cell_type": "code",
   "execution_count": null,
   "id": "aac693a9-c6df-429b-9d4e-8a5ee6d0c3b9",
   "metadata": {},
   "outputs": [],
   "source": [
    "max(u)"
   ]
  },
  {
   "cell_type": "code",
   "execution_count": null,
   "id": "c22244f4-ea8a-4bf1-beed-f03277b42d3e",
   "metadata": {},
   "outputs": [],
   "source": [
    "min(u)"
   ]
  },
  {
   "cell_type": "code",
   "execution_count": null,
   "id": "9e5d0e5a-f5db-4498-b91e-bf29bc445ad9",
   "metadata": {},
   "outputs": [],
   "source": [
    "u_minimum = math.inf\n",
    "u_maximum = -math.inf"
   ]
  },
  {
   "cell_type": "code",
   "execution_count": null,
   "id": "ee8cf5fd-a40e-4af7-9db3-715bcda22b42",
   "metadata": {},
   "outputs": [],
   "source": [
    "for i in range(0, 2000):\n",
    "    sub= volume.extract_subset([0,149,0,449,i,i])\n",
    "    u = sub['u']\n",
    "    if max(u) > u_maximum:\n",
    "        u_maximum = max(u)\n",
    "    if min(u) < u_minimum:\n",
    "        u_minimum = min(u)\n",
    "print(f'maximum:{u_maximum}')\n",
    "print(f'minimum:{u_minimum}')"
   ]
  },
  {
   "cell_type": "code",
   "execution_count": null,
   "id": "30221e7b-cf12-403b-9a93-9f526a576f49",
   "metadata": {},
   "outputs": [],
   "source": [
    "sub= volume.extract_subset([0,149,0,449,1920,1920])\n",
    "u = sub['u']\n",
    "plt.imshow(u.reshape(450, 150), cmap='seismic')\n"
   ]
  },
  {
   "cell_type": "code",
   "execution_count": null,
   "id": "226637e1-343f-45ab-aa3c-1d13d9028845",
   "metadata": {},
   "outputs": [],
   "source": [
    "sub.points.shape"
   ]
  },
  {
   "cell_type": "code",
   "execution_count": null,
   "id": "cb4aae78-4bb2-4eb7-9437-9a1444ba669d",
   "metadata": {},
   "outputs": [],
   "source": [
    "from IPython.display import HTML\n",
    "import matplotlib as mpl\n",
    "mpl.rcParams['animation.embed_limit'] = 200  "
   ]
  },
  {
   "cell_type": "code",
   "execution_count": null,
   "id": "17df68ab-5d7f-4aee-abc7-5e2ff98a0cee",
   "metadata": {},
   "outputs": [],
   "source": [
    "import matplotlib.animation as animation"
   ]
  },
  {
   "cell_type": "code",
   "execution_count": null,
   "id": "058a5057-8500-461b-bcc3-a509058fe561",
   "metadata": {},
   "outputs": [],
   "source": [
    "def update_array(i):\n",
    "    sub = volume.extract_subset([0, 149, 0, 449, i, i])\n",
    "    return sub['u'].reshape(450, 150)\n",
    "\n",
    "# Initialize plot\n",
    "fig_u, ax_u = plt.subplots()\n",
    "u_initial_data = update_array(0)\n",
    "cax_u = ax_u.imshow(u_initial_data, cmap='seismic', vmin=u_minimum, vmax=u_maximum)\n",
    "\n",
    "ax_u.set_xticks([])\n",
    "ax_u.set_yticks([])\n",
    "ax_u.axis('off')\n",
    "\n",
    "# Update function for animation\n",
    "def update_u(frame):\n",
    "    data = update_array(frame)\n",
    "    cax_u.set_array(data)\n",
    "    plt.savefig(f'u/u_{frame}', bbox_inches='tight', pad_inches=0, dpi=300)\n",
    "    return cax_u,\n",
    "\n",
    "# Create animation and save to MP4\n",
    "num_frames = 2000\n",
    "u_ani = animation.FuncAnimation(fig_u, update_u, frames=range(num_frames), interval=10, blit=True)\n",
    "HTML(u_ani.to_jshtml())\n",
    "# ani.save('animation.mp4', writer='ffmpeg')"
   ]
  },
  {
   "cell_type": "code",
   "execution_count": null,
   "id": "6ece114a-ffc2-449a-9d2b-35b7b3ef50d0",
   "metadata": {},
   "outputs": [],
   "source": [
    "v_minimum = math.inf\n",
    "v_maximum = -math.inf"
   ]
  },
  {
   "cell_type": "code",
   "execution_count": null,
   "id": "64aec351-8379-4a14-b85f-7f815a8da426",
   "metadata": {},
   "outputs": [],
   "source": [
    "sub= volume.extract_subset([0,149,0,449,1920,1920])\n",
    "u = sub['u']\n",
    "plt.imshow(u.reshape(450, 150), cmap='seismic')"
   ]
  },
  {
   "cell_type": "code",
   "execution_count": null,
   "id": "a71b1d47-4cdc-4d98-bdde-1f44f8e6aa14",
   "metadata": {},
   "outputs": [],
   "source": [
    "sub= volume.extract_subset([0,149,0,449,1920,1920])\n",
    "v = sub['v']\n",
    "plt.imshow(v.reshape(450, 150), cmap='seismic')"
   ]
  },
  {
   "cell_type": "code",
   "execution_count": null,
   "id": "8533b8c0-4f38-47db-9852-338066392eb8",
   "metadata": {},
   "outputs": [],
   "source": [
    "type(u)"
   ]
  },
  {
   "cell_type": "code",
   "execution_count": null,
   "id": "21413425-efc7-4b7c-9e15-70258ca47ab1",
   "metadata": {},
   "outputs": [],
   "source": [
    "type(v)"
   ]
  },
  {
   "cell_type": "code",
   "execution_count": null,
   "id": "c157b8b5-fb99-4949-8d76-470c2f4de85c",
   "metadata": {},
   "outputs": [],
   "source": [
    "for i in range(0, 2000):\n",
    "    sub= volume.extract_subset([0,149,0,449,i,i])\n",
    "    v = sub['v']\n",
    "    if max(v) > v_maximum:\n",
    "        v_maximum = max(v)\n",
    "    if min(v) < v_minimum:\n",
    "        v_minimum = min(v)\n",
    "print(f'maximum:{v_maximum}')\n",
    "print(f'minimum:{v_minimum}')"
   ]
  },
  {
   "cell_type": "code",
   "execution_count": null,
   "id": "85573612-c555-4ee9-8617-f50ed0180c90",
   "metadata": {},
   "outputs": [],
   "source": [
    "def update_array(i):\n",
    "    sub = volume.extract_subset([0, 149, 0, 449, i, i])\n",
    "    return sub['v'].reshape(450, 150)\n",
    "\n",
    "# Initialize plot\n",
    "fig_v, ax_v = plt.subplots()\n",
    "v_initial_data = update_array(0)\n",
    "cax_v = ax_v.imshow(v_initial_data, cmap='seismic', vmin=v_minimum, vmax=v_maximum)\n",
    "\n",
    "ax_v.set_xticks([])\n",
    "ax_v.set_yticks([])\n",
    "ax_v.axis('off')\n",
    "\n",
    "# Update function for animation\n",
    "def update_v(frame):\n",
    "    data = update_array(frame)\n",
    "    cax_v.set_array(data)\n",
    "    plt.savefig(f'v/v_{frame}', bbox_inches='tight', pad_inches=0, dpi=300)\n",
    "    return cax_v,\n",
    "\n",
    "# Create animation and save to MP4\n",
    "num_frames = 2000\n",
    "v_ani = animation.FuncAnimation(fig_v, update_v, frames=range(num_frames), interval=10, blit=True)\n",
    "HTML(v_ani.to_jshtml())\n",
    "# ani.save('animation.mp4', writer='ffmpeg')"
   ]
  },
  {
   "cell_type": "code",
   "execution_count": null,
   "id": "db356143-2cbe-410e-a8f7-a531808940bb",
   "metadata": {},
   "outputs": [],
   "source": []
  },
  {
   "cell_type": "code",
   "execution_count": null,
   "id": "f58c5b0e-0148-4e50-be77-c97e183ff380",
   "metadata": {},
   "outputs": [],
   "source": [
    " "
   ]
  }
 ],
 "metadata": {
  "kernelspec": {
   "display_name": "Python 3 (ipykernel)",
   "language": "python",
   "name": "python3"
  },
  "language_info": {
   "codemirror_mode": {
    "name": "ipython",
    "version": 3
   },
   "file_extension": ".py",
   "mimetype": "text/x-python",
   "name": "python",
   "nbconvert_exporter": "python",
   "pygments_lexer": "ipython3",
   "version": "3.12.2"
  }
 },
 "nbformat": 4,
 "nbformat_minor": 5
}
