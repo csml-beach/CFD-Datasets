{
 "cells": [
  {
   "cell_type": "code",
   "execution_count": 1,
   "id": "9dfe42ba-6c99-4e8d-873b-12bc70389803",
   "metadata": {
    "tags": []
   },
   "outputs": [],
   "source": [
    "import warnings\n",
    "import matplotlib.animation as animation \n",
    "from IPython import display \n",
    "import numpy as np\n",
    "import h5py\n",
    "import matplotlib.pyplot as plt"
   ]
  },
  {
   "cell_type": "code",
   "execution_count": 2,
   "id": "e752f5da",
   "metadata": {},
   "outputs": [],
   "source": [
    "#from phi.flow import *  # minimal dependencies\n",
    "# from phi.torch.flow import *\n",
    "# from phi.tf.flow import *\n",
    "\n",
    "from phi.jax.flow import *"
   ]
  },
  {
   "cell_type": "code",
   "execution_count": 3,
   "id": "3dfcbedc",
   "metadata": {},
   "outputs": [],
   "source": [
    "Res       = 200   # Resolution\n",
    "Walls = Obstacle(union(\n",
    "    [Box(x=(20, 60), y=(48, 49)), #bottom wall\n",
    "    Box(x=(85, 100), y=(76, 77)), #top bar\n",
    "    Box(x=(20, 21), y=(48, 63)),\n",
    "    Box(x=(48, 49), y=(48, 63)),\n",
    "    Box(x=(34, 35), y=(80, 100)),\n",
    "    Box(x=(34, 55), y=(90, 91)),\n",
    "    Box(x=(76, 77), y=(80, 95)),\n",
    "    ]\n",
    "))\n"
   ]
  },
  {
   "cell_type": "code",
   "execution_count": 9,
   "id": "b58c15c8",
   "metadata": {},
   "outputs": [
    {
     "name": "stdout",
     "output_type": "stream",
     "text": [
      "[[0, 0], [0, 14], [0, 28], [0, 42], [0, 56], [0, 70], [0, 84], [0, 98], [14, 0], [14, 14], [14, 28], [14, 42], [14, 56], [14, 70], [14, 84], [14, 98], [28, 0], [28, 14], [28, 28], [28, 42], [28, 56], [28, 70], [28, 84], [28, 98], [42, 0], [42, 14], [42, 28], [42, 42], [42, 56], [42, 70], [42, 84], [42, 98], [56, 0], [56, 14], [56, 28], [56, 42], [56, 56], [56, 70], [56, 84], [56, 98], [70, 0], [70, 14], [70, 28], [70, 42], [70, 56], [70, 70], [70, 84], [70, 98], [84, 0], [84, 14], [84, 28], [84, 42], [84, 56], [84, 70], [84, 84], [84, 98], [98, 0], [98, 14], [98, 28], [98, 42], [98, 56], [98, 70], [98, 84], [98, 98]]\n"
     ]
    }
   ],
   "source": [
    "source_x = np.arange(0, 100, 14)\n",
    "source_y = np.arange(0, 100, 14)\n",
    "\n",
    "sources = [[x,y] for x in source_x for y in source_y]\n",
    "\n",
    "print(sources)\n",
    "\n",
    "# sources = [[98,84]]"
   ]
  },
  {
   "cell_type": "code",
   "execution_count": 441,
   "id": "6e84f070",
   "metadata": {},
   "outputs": [],
   "source": [
    "hf.close()"
   ]
  },
  {
   "cell_type": "code",
   "execution_count": 10,
   "id": "506d3ee1-a3bb-4c7d-bf26-056adab43778",
   "metadata": {},
   "outputs": [
    {
     "name": "stdout",
     "output_type": "stream",
     "text": [
      "source at  [0, 0]\n",
      "source at  [0, 14]\n",
      "source at  [0, 28]\n",
      "source at  [0, 42]\n",
      "source at  [0, 56]\n",
      "source at  [0, 70]\n",
      "source at  [0, 84]\n",
      "source at  [0, 98]\n",
      "source at  [14, 0]\n"
     ]
    },
    {
     "name": "stderr",
     "output_type": "stream",
     "text": [
      "2024-05-11 23:53:55.274036: E external/xla/xla/service/slow_operation_alarm.cc:65] Constant folding an instruction is taking > 1s:\n",
      "\n",
      "  %slice.2627 = s64[196432,1]{1,0} slice(s64[196432,2]{0,1} %constant.581), slice={[0:196432], [0:1]}, metadata={op_name=\"jit(native(step))/jit(main)/gather[dimension_numbers=GatherDimensionNumbers(offset_dims=(0,), collapsed_slice_dims=(1,), start_index_map=(1,)) slice_sizes=(196432, 1) unique_indices=True indices_are_sorted=True mode=GatherScatterMode.PROMISE_IN_BOUNDS fill_value=None]\" source_file=\"/home/exouser/.local/lib/python3.9/site-packages/phiml/backend/jax/_jax_backend.py\" source_line=381}\n",
      "\n",
      "This isn't necessarily a bug; constant-folding is inherently a trade-off between compilation time and speed at runtime. XLA has some guards that attempt to keep constant folding from taking too long, but fundamentally you'll always be able to come up with an input program that takes a long time.\n",
      "\n",
      "If you'd like to file a bug, run with envvar XLA_FLAGS=--xla_dump_to=/tmp/foo and attach the results.\n",
      "2024-05-11 23:53:55.730291: E external/xla/xla/service/slow_operation_alarm.cc:133] The operation took 1.456279897s\n",
      "Constant folding an instruction is taking > 1s:\n",
      "\n",
      "  %slice.2627 = s64[196432,1]{1,0} slice(s64[196432,2]{0,1} %constant.581), slice={[0:196432], [0:1]}, metadata={op_name=\"jit(native(step))/jit(main)/gather[dimension_numbers=GatherDimensionNumbers(offset_dims=(0,), collapsed_slice_dims=(1,), start_index_map=(1,)) slice_sizes=(196432, 1) unique_indices=True indices_are_sorted=True mode=GatherScatterMode.PROMISE_IN_BOUNDS fill_value=None]\" source_file=\"/home/exouser/.local/lib/python3.9/site-packages/phiml/backend/jax/_jax_backend.py\" source_line=381}\n",
      "\n",
      "This isn't necessarily a bug; constant-folding is inherently a trade-off between compilation time and speed at runtime. XLA has some guards that attempt to keep constant folding from taking too long, but fundamentally you'll always be able to come up with an input program that takes a long time.\n",
      "\n",
      "If you'd like to file a bug, run with envvar XLA_FLAGS=--xla_dump_to=/tmp/foo and attach the results.\n"
     ]
    },
    {
     "name": "stdout",
     "output_type": "stream",
     "text": [
      "source at  [14, 14]\n",
      "source at  [14, 28]\n",
      "source at  [14, 42]\n",
      "source at  [14, 56]\n",
      "source at  [14, 70]\n",
      "source at  [14, 84]\n",
      "source at  [14, 98]\n",
      "source at  [28, 0]\n",
      "source at  [28, 14]\n",
      "source at  [28, 28]\n",
      "source at  [28, 42]\n",
      "source at  [28, 56]\n",
      "source at  [28, 70]\n",
      "source at  [28, 84]\n",
      "source at  [28, 98]\n",
      "source at  [42, 0]\n",
      "source at  [42, 14]\n",
      "source at  [42, 28]\n",
      "source at  [42, 42]\n",
      "source at  [42, 56]\n",
      "source at  [42, 70]\n",
      "source at  [42, 84]\n",
      "source at  [42, 98]\n",
      "source at  [56, 0]\n",
      "source at  [56, 14]\n",
      "source at  [56, 28]\n"
     ]
    },
    {
     "ename": "OSError",
     "evalue": "[Errno 28] Can't write data (file write failed: time = Sun May 12 00:08:44 2024\n, filename = 'Smoke-Flow-Data-2D-14-inch.h5', file descriptor = 90, errno = 28, error message = 'No space left on device', buf = 0x7f991faabe90, total write size = 8000896, bytes this sub-write = 8000896, bytes actually written = 18446744073709551615, offset = 0)",
     "output_type": "error",
     "traceback": [
      "\u001b[0;31m---------------------------------------------------------------------------\u001b[0m",
      "\u001b[0;31mOSError\u001b[0m                                   Traceback (most recent call last)",
      "\u001b[0;32m/tmp/ipykernel_161738/3503684613.py\u001b[0m in \u001b[0;36m<module>\u001b[0;34m\u001b[0m\n\u001b[1;32m     30\u001b[0m     \u001b[0mtrajectory\u001b[0m \u001b[0;34m=\u001b[0m \u001b[0mfield\u001b[0m\u001b[0;34m.\u001b[0m\u001b[0mstack\u001b[0m\u001b[0;34m(\u001b[0m\u001b[0mtrajectory\u001b[0m\u001b[0;34m,\u001b[0m \u001b[0mbatch\u001b[0m\u001b[0;34m(\u001b[0m\u001b[0;34m'time'\u001b[0m\u001b[0;34m)\u001b[0m\u001b[0;34m)\u001b[0m\u001b[0;34m\u001b[0m\u001b[0;34m\u001b[0m\u001b[0m\n\u001b[1;32m     31\u001b[0m     \u001b[0mg\u001b[0m \u001b[0;34m=\u001b[0m \u001b[0mhf\u001b[0m\u001b[0;34m.\u001b[0m\u001b[0mcreate_group\u001b[0m\u001b[0;34m(\u001b[0m\u001b[0mname\u001b[0m \u001b[0;34m=\u001b[0m \u001b[0;34m'x-{}-y-{}'\u001b[0m\u001b[0;34m.\u001b[0m\u001b[0mformat\u001b[0m\u001b[0;34m(\u001b[0m\u001b[0msource\u001b[0m\u001b[0;34m[\u001b[0m\u001b[0;36m0\u001b[0m\u001b[0;34m]\u001b[0m\u001b[0;34m,\u001b[0m \u001b[0msource\u001b[0m\u001b[0;34m[\u001b[0m\u001b[0;36m1\u001b[0m\u001b[0;34m]\u001b[0m\u001b[0;34m)\u001b[0m\u001b[0;34m)\u001b[0m\u001b[0;34m\u001b[0m\u001b[0;34m\u001b[0m\u001b[0m\n\u001b[0;32m---> 32\u001b[0;31m     \u001b[0mg\u001b[0m\u001b[0;34m.\u001b[0m\u001b[0mcreate_dataset\u001b[0m\u001b[0;34m(\u001b[0m\u001b[0;34m'density'\u001b[0m\u001b[0;34m,\u001b[0m \u001b[0mdata\u001b[0m\u001b[0;34m=\u001b[0m\u001b[0mtrajectory\u001b[0m\u001b[0;34m.\u001b[0m\u001b[0muniform_values\u001b[0m\u001b[0;34m(\u001b[0m\u001b[0;34m)\u001b[0m\u001b[0;34m.\u001b[0m\u001b[0mnumpy\u001b[0m\u001b[0;34m(\u001b[0m\u001b[0;34m'time,x,y,vector'\u001b[0m\u001b[0;34m)\u001b[0m\u001b[0;34m)\u001b[0m\u001b[0;34m\u001b[0m\u001b[0;34m\u001b[0m\u001b[0m\n\u001b[0m\u001b[1;32m     33\u001b[0m     \u001b[0mg\u001b[0m\u001b[0;34m.\u001b[0m\u001b[0mattrs\u001b[0m\u001b[0;34m[\u001b[0m\u001b[0;34m'SourcePosition'\u001b[0m\u001b[0;34m]\u001b[0m \u001b[0;34m=\u001b[0m \u001b[0msource\u001b[0m\u001b[0;34m\u001b[0m\u001b[0;34m\u001b[0m\u001b[0m\n\u001b[1;32m     34\u001b[0m \u001b[0;34m\u001b[0m\u001b[0m\n",
      "\u001b[0;32m/software/u22/anaconda/python3.9/lib/python3.9/site-packages/h5py/_hl/group.py\u001b[0m in \u001b[0;36mcreate_dataset\u001b[0;34m(self, name, shape, dtype, data, **kwds)\u001b[0m\n\u001b[1;32m    159\u001b[0m                     \u001b[0mgroup\u001b[0m \u001b[0;34m=\u001b[0m \u001b[0mself\u001b[0m\u001b[0;34m.\u001b[0m\u001b[0mrequire_group\u001b[0m\u001b[0;34m(\u001b[0m\u001b[0mparent_path\u001b[0m\u001b[0;34m)\u001b[0m\u001b[0;34m\u001b[0m\u001b[0;34m\u001b[0m\u001b[0m\n\u001b[1;32m    160\u001b[0m \u001b[0;34m\u001b[0m\u001b[0m\n\u001b[0;32m--> 161\u001b[0;31m             \u001b[0mdsid\u001b[0m \u001b[0;34m=\u001b[0m \u001b[0mdataset\u001b[0m\u001b[0;34m.\u001b[0m\u001b[0mmake_new_dset\u001b[0m\u001b[0;34m(\u001b[0m\u001b[0mgroup\u001b[0m\u001b[0;34m,\u001b[0m \u001b[0mshape\u001b[0m\u001b[0;34m,\u001b[0m \u001b[0mdtype\u001b[0m\u001b[0;34m,\u001b[0m \u001b[0mdata\u001b[0m\u001b[0;34m,\u001b[0m \u001b[0mname\u001b[0m\u001b[0;34m,\u001b[0m \u001b[0;34m**\u001b[0m\u001b[0mkwds\u001b[0m\u001b[0;34m)\u001b[0m\u001b[0;34m\u001b[0m\u001b[0;34m\u001b[0m\u001b[0m\n\u001b[0m\u001b[1;32m    162\u001b[0m             \u001b[0mdset\u001b[0m \u001b[0;34m=\u001b[0m \u001b[0mdataset\u001b[0m\u001b[0;34m.\u001b[0m\u001b[0mDataset\u001b[0m\u001b[0;34m(\u001b[0m\u001b[0mdsid\u001b[0m\u001b[0;34m)\u001b[0m\u001b[0;34m\u001b[0m\u001b[0;34m\u001b[0m\u001b[0m\n\u001b[1;32m    163\u001b[0m             \u001b[0;32mreturn\u001b[0m \u001b[0mdset\u001b[0m\u001b[0;34m\u001b[0m\u001b[0;34m\u001b[0m\u001b[0m\n",
      "\u001b[0;32m/software/u22/anaconda/python3.9/lib/python3.9/site-packages/h5py/_hl/dataset.py\u001b[0m in \u001b[0;36mmake_new_dset\u001b[0;34m(parent, shape, dtype, data, name, chunks, compression, shuffle, fletcher32, maxshape, compression_opts, fillvalue, scaleoffset, track_times, external, track_order, dcpl, dapl, efile_prefix, virtual_prefix, allow_unknown_filter)\u001b[0m\n\u001b[1;32m    157\u001b[0m \u001b[0;34m\u001b[0m\u001b[0m\n\u001b[1;32m    158\u001b[0m     \u001b[0;32mif\u001b[0m \u001b[0;34m(\u001b[0m\u001b[0mdata\u001b[0m \u001b[0;32mis\u001b[0m \u001b[0;32mnot\u001b[0m \u001b[0;32mNone\u001b[0m\u001b[0;34m)\u001b[0m \u001b[0;32mand\u001b[0m \u001b[0;34m(\u001b[0m\u001b[0;32mnot\u001b[0m \u001b[0misinstance\u001b[0m\u001b[0;34m(\u001b[0m\u001b[0mdata\u001b[0m\u001b[0;34m,\u001b[0m \u001b[0mEmpty\u001b[0m\u001b[0;34m)\u001b[0m\u001b[0;34m)\u001b[0m\u001b[0;34m:\u001b[0m\u001b[0;34m\u001b[0m\u001b[0;34m\u001b[0m\u001b[0m\n\u001b[0;32m--> 159\u001b[0;31m         \u001b[0mdset_id\u001b[0m\u001b[0;34m.\u001b[0m\u001b[0mwrite\u001b[0m\u001b[0;34m(\u001b[0m\u001b[0mh5s\u001b[0m\u001b[0;34m.\u001b[0m\u001b[0mALL\u001b[0m\u001b[0;34m,\u001b[0m \u001b[0mh5s\u001b[0m\u001b[0;34m.\u001b[0m\u001b[0mALL\u001b[0m\u001b[0;34m,\u001b[0m \u001b[0mdata\u001b[0m\u001b[0;34m)\u001b[0m\u001b[0;34m\u001b[0m\u001b[0;34m\u001b[0m\u001b[0m\n\u001b[0m\u001b[1;32m    160\u001b[0m \u001b[0;34m\u001b[0m\u001b[0m\n\u001b[1;32m    161\u001b[0m     \u001b[0;32mreturn\u001b[0m \u001b[0mdset_id\u001b[0m\u001b[0;34m\u001b[0m\u001b[0;34m\u001b[0m\u001b[0m\n",
      "\u001b[0;32mh5py/_objects.pyx\u001b[0m in \u001b[0;36mh5py._objects.with_phil.wrapper\u001b[0;34m()\u001b[0m\n",
      "\u001b[0;32mh5py/_objects.pyx\u001b[0m in \u001b[0;36mh5py._objects.with_phil.wrapper\u001b[0;34m()\u001b[0m\n",
      "\u001b[0;32mh5py/h5d.pyx\u001b[0m in \u001b[0;36mh5py.h5d.DatasetID.write\u001b[0;34m()\u001b[0m\n",
      "\u001b[0;32mh5py/_proxy.pyx\u001b[0m in \u001b[0;36mh5py._proxy.dset_rw\u001b[0;34m()\u001b[0m\n",
      "\u001b[0;31mOSError\u001b[0m: [Errno 28] Can't write data (file write failed: time = Sun May 12 00:08:44 2024\n, filename = 'Smoke-Flow-Data-2D-14-inch.h5', file descriptor = 90, errno = 28, error message = 'No space left on device', buf = 0x7f991faabe90, total write size = 8000896, bytes this sub-write = 8000896, bytes actually written = 18446744073709551615, offset = 0)"
     ]
    }
   ],
   "source": [
    "hf = h5py.File(\"Smoke-Flow-Data-2D-14-inch.h5\", \"w\")\n",
    "\n",
    "\n",
    "for source in sources:\n",
    "\n",
    "    print('source at ', source)\n",
    "\n",
    "\n",
    "    @jit_compile  # Only for PyTorch, TensorFlow and Jax\n",
    "    def step(v, s, p, dt=1.):\n",
    "        s = advect.mac_cormack(s, v, dt) + inflow\n",
    "        buoyancy = resample(s * (0.0, 0.1), to=v)\n",
    "        v = advect.semi_lagrangian(v, v, dt) + buoyancy * dt\n",
    "        v, p = fluid.make_incompressible(v, Walls, Solve('auto', 1e-4, 0, x0=p))\n",
    "        return v, s, p\n",
    "    \n",
    "    \n",
    "    velocity = StaggeredGrid(0, x=Res, y=Res, bounds=Box(x=100, y=100))  # or CenteredGrid(...)\n",
    "    smoke    = CenteredGrid(0, ZERO_GRADIENT, x=2*Res, y=2*Res, bounds=Box(x=100, y=100))\n",
    "    inflow   = 0.05 * resample(Sphere(x=source[0], y=source[1], radius=5), to=smoke, soft=True)\n",
    "    pressure = None\n",
    "    \n",
    "    \n",
    "    trajectory = [smoke]\n",
    "\n",
    "    for _ in range(500):\n",
    "        velocity, smoke, pressure = step(velocity, smoke, pressure)\n",
    "        trajectory.append(smoke)\n",
    "        #     plot(vis.overlay(smoke,Walls.geometry), alpha=1, show_color_bar=False, animate='time')\n",
    "    trajectory = field.stack(trajectory, batch('time'))\n",
    "    g = hf.create_group(name = 'x-{}-y-{}'.format(source[0], source[1]))\n",
    "    g.create_dataset('density', data=trajectory.uniform_values().numpy('time,x,y,vector'))\n",
    "    g.attrs['SourcePosition'] = source\n",
    "\n",
    "\n",
    "hf.close()"
   ]
  },
  {
   "cell_type": "code",
   "execution_count": 432,
   "id": "9653a38f",
   "metadata": {},
   "outputs": [],
   "source": [
    "hf = h5py.File(\"temp.h5\", \"r\")"
   ]
  },
  {
   "cell_type": "code",
   "execution_count": 433,
   "id": "b853b1ea",
   "metadata": {},
   "outputs": [
    {
     "name": "stdout",
     "output_type": "stream",
     "text": [
      "<KeysViewHDF5 ['x-98-y-84']>\n"
     ]
    }
   ],
   "source": [
    "names = hf.keys()\n",
    "print(names)"
   ]
  },
  {
   "cell_type": "code",
   "execution_count": 434,
   "id": "c423144e-49fb-4a38-9174-2350694b44f6",
   "metadata": {},
   "outputs": [],
   "source": [
    "dd = hf['x-98-y-84']['density']"
   ]
  },
  {
   "cell_type": "code",
   "execution_count": 435,
   "id": "6c12eeff-e8e0-4607-b2c0-f5b3f7d9f2fb",
   "metadata": {},
   "outputs": [],
   "source": [
    "q = tensor(np.array(dd[:,:,:,0]), batch('time'), spatial('x,y'))\n",
    "gridQ = CenteredGrid(q, bounds=Box(x=100, y=100))"
   ]
  },
  {
   "cell_type": "code",
   "execution_count": 436,
   "id": "116c9792",
   "metadata": {},
   "outputs": [
    {
     "data": {
      "image/png": "[encoded data removed]",
      "text/plain": [
       "<Figure size 1200x500 with 1 Axes>"
      ]
     },
     "metadata": {},
     "output_type": "display_data"
    }
   ],
   "source": [
    "q = tensor(np.array(dd[1,:,:,0]), spatial('x,y'))\n",
    "gridQ = CenteredGrid(q, bounds=Box(x=100, y=100))\n",
    "p = plot(vis.overlay(gridQ,Walls.geometry), alpha=1,\n",
    "     show_color_bar=False)"
   ]
  },
  {
   "cell_type": "code",
   "execution_count": 116,
   "id": "91346767-f06e-4085-beca-6d5a06bf8a9a",
   "metadata": {},
   "outputs": [],
   "source": [
    "# plot(vis.overlay(gridQ,Walls.geometry), alpha=1,\n",
    "#      show_color_bar=False, animate='time')"
   ]
  },
  {
   "cell_type": "code",
   "execution_count": 117,
   "id": "25144625-0e0d-4b6d-9e17-ed304126373c",
   "metadata": {},
   "outputs": [
    {
     "data": {
      "image/png": "[encoded data removed]",
      "text/plain": [
       "<Figure size 1200x500 with 1 Axes>"
      ]
     },
     "metadata": {},
     "output_type": "display_data"
    }
   ],
   "source": [
    "p = plot(vis.overlay(gridQ,Walls.geometry), alpha=1,\n",
    "     show_color_bar=False, animate='time')"
   ]
  },
  {
   "cell_type": "code",
   "execution_count": 12,
   "id": "b5d6b83e-abce-47ac-93d6-147833441899",
   "metadata": {},
   "outputs": [],
   "source": [
    "# p.save('Smoke-x-20.mp4')"
   ]
  },
  {
   "cell_type": "code",
   "execution_count": 10,
   "id": "317ab6e2-c021-4d5e-a296-efafd9d472dc",
   "metadata": {},
   "outputs": [
    {
     "data": {
      "text/plain": [
       "(16.0, 104.0, 47.5, 102.5)"
      ]
     },
     "execution_count": 10,
     "metadata": {},
     "output_type": "execute_result"
    },
    {
     "data": {
      "image/png": "[encoded data removed]",
      "text/plain": [
       "<Figure size 500x500 with 1 Axes>"
      ]
     },
     "metadata": {},
     "output_type": "display_data"
    }
   ],
   "source": [
    "plot(vis.overlay(Walls.geometry, ), alpha=1, size = (5,5))\n",
    "plt.axis('equal')"
   ]
  },
  {
   "cell_type": "code",
   "execution_count": null,
   "id": "8f6cada3-4641-4ab6-94c6-2c65ef24bc6a",
   "metadata": {},
   "outputs": [],
   "source": []
  }
 ],
 "metadata": {
  "kernelspec": {
   "display_name": "Python 3 (ipykernel)",
   "language": "python",
   "name": "python3"
  },
  "language_info": {
   "codemirror_mode": {
    "name": "ipython",
    "version": 3
   },
   "file_extension": ".py",
   "mimetype": "text/x-python",
   "name": "python",
   "nbconvert_exporter": "python",
   "pygments_lexer": "ipython3",
   "version": "3.9.13"
  }
 },
 "nbformat": 4,
 "nbformat_minor": 5
}
